{
 "cells": [
  {
   "cell_type": "code",
   "execution_count": null,
   "id": "f11a4271-7832-4887-a609-082fc34f20f0",
   "metadata": {},
   "outputs": [],
   "source": [
    "from unsloth import FastLanguageModel\n",
    "\n",
    "max_seq_length = 1248 # Choose any! We auto support RoPE Scaling internally!\n",
    "dtype = None # None for auto detection. Float16 for Tesla T4, V100, Bfloat16 for Ampere+\n",
    "load_in_4bit = True # Use 4bit quantization to reduce memory usage. Can be False.\n",
    "\n",
    "model_type = \"llama\" # llama, phi-3\n",
    "\n",
    "model, tokenizer = FastLanguageModel.from_pretrained(\n",
    "    model_name = \"gsarti/llama-3.1-8b-rebus-solver\", # MODEL OR ADAPTER FOLDER\n",
    "    max_seq_length = max_seq_length,\n",
    "    dtype = dtype,\n",
    "    load_in_4bit = load_in_4bit,\n",
    ")\n",
    "FastLanguageModel.for_inference(model)"
   ]
  },
  {
   "cell_type": "code",
   "execution_count": null,
   "id": "e833e83c-88ee-4734-9b58-8afb48d0a9bb",
   "metadata": {},
   "outputs": [],
   "source": [
    "from datasets import load_dataset\n",
    "\n",
    "eval_dataset = load_dataset('gsarti/eureka-rebus', 'llm_sft', data_files=[\"id_test.jsonl\", \"ood_test.jsonl\"], split = \"train\")"
   ]
  },
  {
   "cell_type": "code",
   "execution_count": null,
   "id": "1dfce0bf-dece-4b0c-be40-0603be7ee49c",
   "metadata": {},
   "outputs": [],
   "source": [
    "# Single-example generation\n",
    "\n",
    "ex_idx = 5\n",
    "example = eval_dataset[ex_idx][\"conversations\"][0]\n",
    "inputs = tokenizer.apply_chat_template(\n",
    "    [\n",
    "        {\"role\": \"user\", \"content\": example[\"value\"]}\n",
    "    ],\n",
    "    add_generation_prompt=True,\n",
    "    return_tensors = \"pt\",\n",
    "    padding=True,\n",
    "    truncation=True,\n",
    ")\n",
    "outputs = model.generate(input_ids = inputs, max_new_tokens = 500, use_cache = True)\n",
    "model_generations = tokenizer.batch_decode(outputs)\n",
    "print(model_generations[0])"
   ]
  },
  {
   "cell_type": "code",
   "execution_count": 4,
   "id": "dc4d8c88",
   "metadata": {},
   "outputs": [],
   "source": [
    "import re\n",
    "\n",
    "regex_word_guess = '- \\[.* = (.*)'\n",
    "regex_firstpass = 'Prima lettura: (.*)'\n",
    "regex_solution_word = \"\\d+ = (.*)\"\n",
    "regex_solution = \"Soluzione: (.*)\"\n",
    "\n",
    "def parse_generation(ex_idx, ex):\n",
    "    try:\n",
    "        word_guesses = \";\".join(re.findall(regex_word_guess, ex))\n",
    "    except:\n",
    "        word_guesses = \"\"\n",
    "    try:\n",
    "        first_pass = re.findall(regex_firstpass, ex)[0]\n",
    "    except:\n",
    "        first_pass = \"\"\n",
    "    try:\n",
    "        solution_words = \";\".join(re.findall(regex_solution_word, ex))\n",
    "    except:\n",
    "        solution_words = \"\"\n",
    "    try:\n",
    "        solution = re.findall(regex_solution, ex)[0]\n",
    "    except:\n",
    "        solution = \"\"\n",
    "    return {\n",
    "        \"idx\": ex_idx,\n",
    "        \"word_guesses\": word_guesses,\n",
    "        \"first_pass\": first_pass,\n",
    "        \"solution_words\": solution_words,\n",
    "        \"solution\": solution,\n",
    "    }"
   ]
  },
  {
   "cell_type": "code",
   "execution_count": 5,
   "id": "bde59b8d",
   "metadata": {},
   "outputs": [
    {
     "name": "stderr",
     "output_type": "stream",
     "text": [
      "100%|██████████| 2000/2000 [00:00<00:00, 30258.99it/s]\n"
     ]
    }
   ],
   "source": [
    "import pandas as pd\n",
    "from tqdm import tqdm\n",
    "\n",
    "# Create gold parsed outputs\n",
    "\n",
    "results = []\n",
    "for ex_idx, ex in tqdm(enumerate(eval_dataset), total=len(eval_dataset)):\n",
    "    gold_output = ex[\"conversations\"][1][\"value\"]\n",
    "    parsed_output = parse_generation(ex_idx, gold_output)\n",
    "    results.append(parsed_output)\n",
    "\n",
    "df = pd.DataFrame(results)\n",
    "df.to_csv(\"../outputs/test_gold_id_ood.csv\")"
   ]
  },
  {
   "cell_type": "code",
   "execution_count": null,
   "id": "e156daa9-ccad-432e-ab29-f0f9d6b0fcce",
   "metadata": {},
   "outputs": [],
   "source": [
    "from tqdm import tqdm\n",
    "\n",
    "if model_type == \"llama\":\n",
    "    tokenizer.padding_side = \"right\"\n",
    "elif model_type == \"phi-3\":\n",
    "    tokenizer.padding_side = \"left\"\n",
    "\n",
    "results = []\n",
    "batch_size = 134\n",
    "for i in tqdm(range(0, len(eval_dataset), batch_size), total=len(eval_dataset)//batch_size):\n",
    "    batch = eval_dataset[i:i+batch_size]\n",
    "\n",
    "    if model_type == \"llama\":\n",
    "        input = [[{\"role\": \"user\", \"content\": example[0][\"value\"]}] for example in batch[\"conversations\"]]\n",
    "    elif model_type == \"phi-3\":\n",
    "        input = [[item[0]] for item in batch[\"conversations\"]]\n",
    "\n",
    "    inputs = tokenizer.apply_chat_template(\n",
    "        input,\n",
    "        tokenize = True,\n",
    "        add_generation_prompt = True, # Must add for generation\n",
    "        return_tensors = \"pt\",\n",
    "        padding=True,\n",
    "        truncation=True,\n",
    "    ).to(\"cuda\")\n",
    "    outputs = model.generate(input_ids = inputs, max_new_tokens = 500, use_cache = True)\n",
    "\n",
    "    model_generations = tokenizer.batch_decode(outputs)\n",
    "    for ex_idx, ex in enumerate(model_generations):\n",
    "        out_dic = parse_generation(ex_idx + i, ex)\n",
    "        if i == 0 and ex_idx <= 5:\n",
    "            print(ex)\n",
    "            print(out_dic)\n",
    "        results.append(out_dic)"
   ]
  },
  {
   "cell_type": "code",
   "execution_count": 5,
   "id": "b7d51f76-3b65-4a40-8881-2e654bb1023f",
   "metadata": {},
   "outputs": [],
   "source": [
    "import pandas as pd\n",
    "\n",
    "df = pd.DataFrame(results)\n",
    "df.to_csv(\"../outputs/llama3.1_8b_results_step_5070.csv\")"
   ]
  }
 ],
 "metadata": {
  "kernelspec": {
   "display_name": "Python 3 (ipykernel)",
   "language": "python",
   "name": "python3"
  },
  "language_info": {
   "codemirror_mode": {
    "name": "ipython",
    "version": 3
   },
   "file_extension": ".py",
   "mimetype": "text/x-python",
   "name": "python",
   "nbconvert_exporter": "python",
   "pygments_lexer": "ipython3",
   "version": "3.11.9"
  }
 },
 "nbformat": 4,
 "nbformat_minor": 5
}
